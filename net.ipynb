{
  "nbformat": 4,
  "nbformat_minor": 0,
  "metadata": {
    "colab": {
      "provenance": [],
      "authorship_tag": "ABX9TyP3u/kKuSyCr7NuK6pDcyn1",
      "include_colab_link": true
    },
    "kernelspec": {
      "name": "python3",
      "display_name": "Python 3"
    },
    "language_info": {
      "name": "python"
    },
    "accelerator": "TPU"
  },
  "cells": [
    {
      "cell_type": "markdown",
      "metadata": {
        "id": "view-in-github",
        "colab_type": "text"
      },
      "source": [
        "<a href=\"https://colab.research.google.com/github/juliusmarkwei/neural-net-classifier/blob/main/net.ipynb\" target=\"_parent\"><img src=\"https://colab.research.google.com/assets/colab-badge.svg\" alt=\"Open In Colab\"/></a>"
      ]
    },
    {
      "cell_type": "code",
      "source": [
        "import numpy as np\n",
        "import matplotlib.pyplot as plt\n",
        "from random import randint\n",
        "import os\n",
        "from warnings import filterwarnings\n",
        "filterwarnings('ignore')\n",
        "\n",
        "from sklearn.utils import shuffle\n",
        "from sklearn.preprocessing import MinMaxScaler\n",
        "from sklearn.metrics import confusion_matrix\n",
        "from sklearn.metrics import ConfusionMatrixDisplay\n",
        "\n",
        "import tensorflow as tf\n",
        "from tensorflow import keras\n",
        "from tensorflow.keras.models import Sequential\n",
        "from tensorflow.keras.layers import Activation, Dense\n",
        "from tensorflow.keras.optimizers import Adam\n",
        "from tensorflow.keras.models import load_model, model_from_json\n",
        "\n",
        "%matplotlib inline"
      ],
      "metadata": {
        "id": "4Lsorft_NWaA"
      },
      "execution_count": 1,
      "outputs": []
    },
    {
      "cell_type": "code",
      "source": [
        "train_samples = []\n",
        "train_labels = []"
      ],
      "metadata": {
        "id": "ZX88BHwzNbCL"
      },
      "execution_count": 2,
      "outputs": []
    },
    {
      "cell_type": "code",
      "source": [
        "# generating a synthetic train data\n",
        "\n",
        "for i in range(50):\n",
        "  # The ~5% of younger individuals who did experience side effect\n",
        "  random_younger = randint(13, 64)\n",
        "  train_samples.append(random_younger)\n",
        "  train_labels.append(1)\n",
        "\n",
        "  # The ~5% of older individuals who did not experience side effects\n",
        "  random_older = randint(64, 100)\n",
        "  train_samples.append(random_older)\n",
        "  train_labels.append(0)\n",
        "\n",
        "for i in range(1000):\n",
        "  # The ~95% of younger individuals who did not experience side effect\n",
        "  random_younger = randint(13, 64)\n",
        "  train_samples.append(random_younger)\n",
        "  train_labels.append(0)\n",
        "\n",
        "  # The ~95% of older individuals who did not experience side effects\n",
        "  random_older = randint(64, 100)\n",
        "  train_samples.append(random_older)\n",
        "  train_labels.append(1)"
      ],
      "metadata": {
        "id": "O6cmhtEwEQem"
      },
      "execution_count": 3,
      "outputs": []
    },
    {
      "cell_type": "code",
      "source": [
        "train_samples[:10], train_labels[:10]"
      ],
      "metadata": {
        "colab": {
          "base_uri": "https://localhost:8080/"
        },
        "id": "mG33IwcwGQp6",
        "outputId": "dd7e8e9b-486d-494b-a930-52d97de99d93"
      },
      "execution_count": 4,
      "outputs": [
        {
          "output_type": "execute_result",
          "data": {
            "text/plain": [
              "([24, 77, 53, 69, 14, 86, 25, 91, 61, 65], [1, 0, 1, 0, 1, 0, 1, 0, 1, 0])"
            ]
          },
          "metadata": {},
          "execution_count": 4
        }
      ]
    },
    {
      "cell_type": "code",
      "source": [
        "train_samples = np.array(train_samples)\n",
        "train_labels = np.array(train_labels)\n",
        "train_labels, train_samples = shuffle(train_labels, train_samples)"
      ],
      "metadata": {
        "id": "n3NowCljGfT4"
      },
      "execution_count": 5,
      "outputs": []
    },
    {
      "cell_type": "code",
      "source": [
        "scaler = MinMaxScaler(feature_range=(0, 1))\n",
        "scaled_trained_samples = scaler.fit_transform(train_samples.reshape(-1, 1))"
      ],
      "metadata": {
        "id": "0m5dc4LiG_TL"
      },
      "execution_count": 6,
      "outputs": []
    },
    {
      "cell_type": "code",
      "source": [
        "scaled_trained_samples[:10]"
      ],
      "metadata": {
        "colab": {
          "base_uri": "https://localhost:8080/"
        },
        "id": "jSKEYhK4Hiqf",
        "outputId": "ac86424d-862e-4962-befb-90216a38d43b"
      },
      "execution_count": 7,
      "outputs": [
        {
          "output_type": "execute_result",
          "data": {
            "text/plain": [
              "array([[0.86206897],\n",
              "       [0.64367816],\n",
              "       [0.18390805],\n",
              "       [0.48275862],\n",
              "       [0.20689655],\n",
              "       [0.8045977 ],\n",
              "       [0.16091954],\n",
              "       [0.70114943],\n",
              "       [1.        ],\n",
              "       [0.1954023 ]])"
            ]
          },
          "metadata": {},
          "execution_count": 7
        }
      ]
    },
    {
      "cell_type": "code",
      "source": [
        "physical_device = tf.config.experimental.list_physical_devices('TPU')\n",
        "print('Number of GPUs available: ', len(physical_device))\n",
        "# tf.config.experimental.set_memory_growth(physical_device[0], True)"
      ],
      "metadata": {
        "colab": {
          "base_uri": "https://localhost:8080/"
        },
        "id": "aFo7Cmf_Hy1x",
        "outputId": "98498bb7-19b3-42ca-a5c9-73286b743056"
      },
      "execution_count": 8,
      "outputs": [
        {
          "output_type": "stream",
          "name": "stdout",
          "text": [
            "Number of GPUs available:  0\n"
          ]
        }
      ]
    },
    {
      "cell_type": "code",
      "source": [
        "model = Sequential([\n",
        "    Dense(units=16, input_shape=(1,), activation='relu'),\n",
        "    Dense(units=32, activation='relu'),\n",
        "    Dense(units=2, activation='softmax')\n",
        "])"
      ],
      "metadata": {
        "id": "6Bcf1rE1JhSZ"
      },
      "execution_count": 9,
      "outputs": []
    },
    {
      "cell_type": "code",
      "source": [
        "model.summary()"
      ],
      "metadata": {
        "colab": {
          "base_uri": "https://localhost:8080/"
        },
        "id": "XYFnzg4-Keb3",
        "outputId": "e70d0881-5bbe-400d-8b83-e37d367cb475"
      },
      "execution_count": 10,
      "outputs": [
        {
          "output_type": "stream",
          "name": "stdout",
          "text": [
            "Model: \"sequential\"\n",
            "_________________________________________________________________\n",
            " Layer (type)                Output Shape              Param #   \n",
            "=================================================================\n",
            " dense (Dense)               (None, 16)                32        \n",
            "                                                                 \n",
            " dense_1 (Dense)             (None, 32)                544       \n",
            "                                                                 \n",
            " dense_2 (Dense)             (None, 2)                 66        \n",
            "                                                                 \n",
            "=================================================================\n",
            "Total params: 642\n",
            "Trainable params: 642\n",
            "Non-trainable params: 0\n",
            "_________________________________________________________________\n"
          ]
        }
      ]
    },
    {
      "cell_type": "code",
      "source": [
        "model.compile(\n",
        "    optimizer=Adam(learning_rate=0.001),\n",
        "    loss='sparse_categorical_crossentropy',\n",
        "    metrics=['accuracy']\n",
        ")"
      ],
      "metadata": {
        "id": "i0WPHaHkK9KG"
      },
      "execution_count": 11,
      "outputs": []
    },
    {
      "cell_type": "code",
      "source": [
        "history = model.fit(\n",
        "    x=scaled_trained_samples,\n",
        "    y=train_labels,\n",
        "    validation_split=0.1,\n",
        "    batch_size=10,\n",
        "    epochs=30,\n",
        "    shuffle=True,\n",
        "    verbose=2\n",
        ")"
      ],
      "metadata": {
        "colab": {
          "base_uri": "https://localhost:8080/"
        },
        "id": "4whd8A26Lb2g",
        "outputId": "780978bc-807b-45ac-a817-dce5dbc074d0"
      },
      "execution_count": 12,
      "outputs": [
        {
          "output_type": "stream",
          "name": "stdout",
          "text": [
            "Epoch 1/30\n",
            "189/189 - 2s - loss: 0.5737 - accuracy: 0.7085 - val_loss: 0.4743 - val_accuracy: 0.8238 - 2s/epoch - 11ms/step\n",
            "Epoch 2/30\n",
            "189/189 - 0s - loss: 0.3773 - accuracy: 0.8841 - val_loss: 0.3039 - val_accuracy: 0.9238 - 361ms/epoch - 2ms/step\n",
            "Epoch 3/30\n",
            "189/189 - 0s - loss: 0.2835 - accuracy: 0.9275 - val_loss: 0.2539 - val_accuracy: 0.9476 - 312ms/epoch - 2ms/step\n",
            "Epoch 4/30\n",
            "189/189 - 0s - loss: 0.2609 - accuracy: 0.9323 - val_loss: 0.2379 - val_accuracy: 0.9619 - 369ms/epoch - 2ms/step\n",
            "Epoch 5/30\n",
            "189/189 - 0s - loss: 0.2534 - accuracy: 0.9381 - val_loss: 0.2339 - val_accuracy: 0.9476 - 318ms/epoch - 2ms/step\n",
            "Epoch 6/30\n",
            "189/189 - 0s - loss: 0.2493 - accuracy: 0.9339 - val_loss: 0.2263 - val_accuracy: 0.9571 - 340ms/epoch - 2ms/step\n",
            "Epoch 7/30\n",
            "189/189 - 0s - loss: 0.2461 - accuracy: 0.9376 - val_loss: 0.2222 - val_accuracy: 0.9619 - 309ms/epoch - 2ms/step\n",
            "Epoch 8/30\n",
            "189/189 - 0s - loss: 0.2439 - accuracy: 0.9392 - val_loss: 0.2280 - val_accuracy: 0.9286 - 431ms/epoch - 2ms/step\n",
            "Epoch 9/30\n",
            "189/189 - 0s - loss: 0.2446 - accuracy: 0.9360 - val_loss: 0.2198 - val_accuracy: 0.9476 - 407ms/epoch - 2ms/step\n",
            "Epoch 10/30\n",
            "189/189 - 0s - loss: 0.2416 - accuracy: 0.9386 - val_loss: 0.2222 - val_accuracy: 0.9333 - 358ms/epoch - 2ms/step\n",
            "Epoch 11/30\n",
            "189/189 - 0s - loss: 0.2430 - accuracy: 0.9365 - val_loss: 0.2178 - val_accuracy: 0.9571 - 367ms/epoch - 2ms/step\n",
            "Epoch 12/30\n",
            "189/189 - 0s - loss: 0.2408 - accuracy: 0.9392 - val_loss: 0.2176 - val_accuracy: 0.9571 - 372ms/epoch - 2ms/step\n",
            "Epoch 13/30\n",
            "189/189 - 0s - loss: 0.2404 - accuracy: 0.9349 - val_loss: 0.2153 - val_accuracy: 0.9619 - 324ms/epoch - 2ms/step\n",
            "Epoch 14/30\n",
            "189/189 - 0s - loss: 0.2403 - accuracy: 0.9376 - val_loss: 0.2162 - val_accuracy: 0.9571 - 305ms/epoch - 2ms/step\n",
            "Epoch 15/30\n",
            "189/189 - 0s - loss: 0.2391 - accuracy: 0.9423 - val_loss: 0.2149 - val_accuracy: 0.9619 - 364ms/epoch - 2ms/step\n",
            "Epoch 16/30\n",
            "189/189 - 0s - loss: 0.2393 - accuracy: 0.9386 - val_loss: 0.2165 - val_accuracy: 0.9571 - 437ms/epoch - 2ms/step\n",
            "Epoch 17/30\n",
            "189/189 - 0s - loss: 0.2397 - accuracy: 0.9376 - val_loss: 0.2146 - val_accuracy: 0.9619 - 494ms/epoch - 3ms/step\n",
            "Epoch 18/30\n",
            "189/189 - 1s - loss: 0.2382 - accuracy: 0.9381 - val_loss: 0.2140 - val_accuracy: 0.9619 - 518ms/epoch - 3ms/step\n",
            "Epoch 19/30\n",
            "189/189 - 1s - loss: 0.2375 - accuracy: 0.9386 - val_loss: 0.2130 - val_accuracy: 0.9619 - 524ms/epoch - 3ms/step\n",
            "Epoch 20/30\n",
            "189/189 - 0s - loss: 0.2356 - accuracy: 0.9392 - val_loss: 0.2136 - val_accuracy: 0.9476 - 482ms/epoch - 3ms/step\n",
            "Epoch 21/30\n",
            "189/189 - 0s - loss: 0.2356 - accuracy: 0.9413 - val_loss: 0.2115 - val_accuracy: 0.9619 - 453ms/epoch - 2ms/step\n",
            "Epoch 22/30\n",
            "189/189 - 0s - loss: 0.2354 - accuracy: 0.9386 - val_loss: 0.2122 - val_accuracy: 0.9571 - 466ms/epoch - 2ms/step\n",
            "Epoch 23/30\n",
            "189/189 - 0s - loss: 0.2348 - accuracy: 0.9381 - val_loss: 0.2124 - val_accuracy: 0.9571 - 457ms/epoch - 2ms/step\n",
            "Epoch 24/30\n",
            "189/189 - 0s - loss: 0.2359 - accuracy: 0.9370 - val_loss: 0.2109 - val_accuracy: 0.9571 - 360ms/epoch - 2ms/step\n",
            "Epoch 25/30\n",
            "189/189 - 0s - loss: 0.2340 - accuracy: 0.9381 - val_loss: 0.2108 - val_accuracy: 0.9476 - 350ms/epoch - 2ms/step\n",
            "Epoch 26/30\n",
            "189/189 - 0s - loss: 0.2338 - accuracy: 0.9381 - val_loss: 0.2096 - val_accuracy: 0.9619 - 357ms/epoch - 2ms/step\n",
            "Epoch 27/30\n",
            "189/189 - 0s - loss: 0.2336 - accuracy: 0.9402 - val_loss: 0.2100 - val_accuracy: 0.9571 - 328ms/epoch - 2ms/step\n",
            "Epoch 28/30\n",
            "189/189 - 0s - loss: 0.2335 - accuracy: 0.9397 - val_loss: 0.2118 - val_accuracy: 0.9476 - 360ms/epoch - 2ms/step\n",
            "Epoch 29/30\n",
            "189/189 - 0s - loss: 0.2336 - accuracy: 0.9407 - val_loss: 0.2087 - val_accuracy: 0.9619 - 357ms/epoch - 2ms/step\n",
            "Epoch 30/30\n",
            "189/189 - 0s - loss: 0.2327 - accuracy: 0.9418 - val_loss: 0.2078 - val_accuracy: 0.9619 - 329ms/epoch - 2ms/step\n"
          ]
        }
      ]
    },
    {
      "cell_type": "code",
      "source": [
        "history.history.keys()"
      ],
      "metadata": {
        "colab": {
          "base_uri": "https://localhost:8080/"
        },
        "id": "pqG6akDoP0CO",
        "outputId": "a63f0d7b-7eb8-4eb1-aed2-b222e33d2707"
      },
      "execution_count": 13,
      "outputs": [
        {
          "output_type": "execute_result",
          "data": {
            "text/plain": [
              "dict_keys(['loss', 'accuracy', 'val_loss', 'val_accuracy'])"
            ]
          },
          "metadata": {},
          "execution_count": 13
        }
      ]
    },
    {
      "cell_type": "code",
      "source": [
        "# generating a synthetic test data\n",
        "\n",
        "test_samples = []\n",
        "test_labels = []\n",
        "\n",
        "for i in range(10):\n",
        "  # The ~5% of younger individuals who did experience side effect\n",
        "  random_younger = randint(13, 64)\n",
        "  test_samples.append(random_younger)\n",
        "  test_labels.append(1)\n",
        "\n",
        "  # The ~5% of older individuals who did not experience side effects\n",
        "  random_older = randint(64, 100)\n",
        "  test_samples.append(random_older)\n",
        "  test_labels.append(0)\n",
        "\n",
        "for i in range(200):\n",
        "  # The ~95% of younger individuals who did not experience side effect\n",
        "  random_younger = randint(13, 64)\n",
        "  test_samples.append(random_younger)\n",
        "  test_labels.append(0)\n",
        "\n",
        "  # The ~95% of older individuals who did not experience side effects\n",
        "  random_older = randint(64, 100)\n",
        "  test_samples.append(random_older)\n",
        "  test_labels.append(1)"
      ],
      "metadata": {
        "id": "AEPGJWDEg6Gu"
      },
      "execution_count": 14,
      "outputs": []
    },
    {
      "cell_type": "code",
      "source": [
        "test_labels = np.array(test_labels)\n",
        "test_samples = np.array(test_samples)\n",
        "test_samples, test_labels = shuffle(test_samples, test_labels)"
      ],
      "metadata": {
        "id": "a-CMpM_chsJA"
      },
      "execution_count": 15,
      "outputs": []
    },
    {
      "cell_type": "code",
      "source": [
        "scaled_test_samples = scaler.fit_transform(test_samples.reshape(-1, 1))"
      ],
      "metadata": {
        "id": "C_APZ1jIj7ih"
      },
      "execution_count": 16,
      "outputs": []
    },
    {
      "cell_type": "code",
      "source": [
        "predictions = model.predict(x=scaled_test_samples, batch_size=10, verbose=2)"
      ],
      "metadata": {
        "colab": {
          "base_uri": "https://localhost:8080/"
        },
        "id": "ciexA3_ekXf8",
        "outputId": "178f3f72-226a-4191-d80e-33f50653a26a"
      },
      "execution_count": 17,
      "outputs": [
        {
          "output_type": "stream",
          "name": "stdout",
          "text": [
            "42/42 - 0s - 191ms/epoch - 5ms/step\n"
          ]
        }
      ]
    },
    {
      "cell_type": "code",
      "source": [
        "predictions[:10]"
      ],
      "metadata": {
        "colab": {
          "base_uri": "https://localhost:8080/"
        },
        "id": "8DI8dcxYkrdz",
        "outputId": "b08e563a-a8b5-4fc0-bfde-164cfee23099"
      },
      "execution_count": 18,
      "outputs": [
        {
          "output_type": "execute_result",
          "data": {
            "text/plain": [
              "array([[0.9628216 , 0.0371783 ],\n",
              "       [0.18422645, 0.81577355],\n",
              "       [0.03391305, 0.96608686],\n",
              "       [0.9608988 , 0.03910105],\n",
              "       [0.00920206, 0.99079806],\n",
              "       [0.43210867, 0.5678914 ],\n",
              "       [0.9636845 , 0.0363155 ],\n",
              "       [0.00319557, 0.9968044 ],\n",
              "       [0.4321086 , 0.56789136],\n",
              "       [0.00806561, 0.9919344 ]], dtype=float32)"
            ]
          },
          "metadata": {},
          "execution_count": 18
        }
      ]
    },
    {
      "cell_type": "code",
      "source": [
        "rounded_predictions = np.argmax(predictions, axis=-1)\n",
        "rounded_predictions[:10]"
      ],
      "metadata": {
        "colab": {
          "base_uri": "https://localhost:8080/"
        },
        "id": "uggUVyoak0i-",
        "outputId": "90fde80c-d3f3-41e0-a709-58e22dddcba1"
      },
      "execution_count": 19,
      "outputs": [
        {
          "output_type": "execute_result",
          "data": {
            "text/plain": [
              "array([0, 1, 1, 0, 1, 1, 0, 1, 1, 1])"
            ]
          },
          "metadata": {},
          "execution_count": 19
        }
      ]
    },
    {
      "cell_type": "code",
      "source": [
        "cm = confusion_matrix(test_labels, rounded_predictions)"
      ],
      "metadata": {
        "id": "iP9BDurGpOED"
      },
      "execution_count": 20,
      "outputs": []
    },
    {
      "cell_type": "code",
      "source": [
        "cm"
      ],
      "metadata": {
        "colab": {
          "base_uri": "https://localhost:8080/"
        },
        "id": "WRu2Nqw5qAVn",
        "outputId": "810d4a76-ffc3-448c-adad-320d96ae8911"
      },
      "execution_count": 21,
      "outputs": [
        {
          "output_type": "execute_result",
          "data": {
            "text/plain": [
              "array([[192,  18],\n",
              "       [ 10, 200]])"
            ]
          },
          "metadata": {},
          "execution_count": 21
        }
      ]
    },
    {
      "cell_type": "code",
      "source": [
        "disp = ConfusionMatrixDisplay(cm)\n",
        "disp.plot()\n",
        "plt.show()"
      ],
      "metadata": {
        "colab": {
          "base_uri": "https://localhost:8080/",
          "height": 455
        },
        "id": "4-7cqW-vphm4",
        "outputId": "9d480c60-67c4-4fef-f1a0-dc6161619fdf"
      },
      "execution_count": 22,
      "outputs": [
        {
          "output_type": "display_data",
          "data": {
            "text/plain": [
              "<Figure size 640x480 with 2 Axes>"
            ],
            "image/png": "[encoded data removed]"
          },
          "metadata": {}
        }
      ]
    },
    {
      "cell_type": "code",
      "source": [
        "if os.path.isfile('models/classnet.h5') is False:\n",
        "  model.save('model/classnet.h5')"
      ],
      "metadata": {
        "id": "ptqSF8ckNQtP"
      },
      "execution_count": 23,
      "outputs": []
    },
    {
      "cell_type": "code",
      "source": [
        "new_model = load_model('model/classnet.h5')"
      ],
      "metadata": {
        "id": "Wiu8q74MOn-8"
      },
      "execution_count": 24,
      "outputs": []
    },
    {
      "cell_type": "code",
      "source": [
        "new_model.summary()"
      ],
      "metadata": {
        "colab": {
          "base_uri": "https://localhost:8080/"
        },
        "id": "MXO3Y8a0O7Wi",
        "outputId": "a6065ac8-f475-4ee8-8439-0b852ce39143"
      },
      "execution_count": 25,
      "outputs": [
        {
          "output_type": "stream",
          "name": "stdout",
          "text": [
            "Model: \"sequential\"\n",
            "_________________________________________________________________\n",
            " Layer (type)                Output Shape              Param #   \n",
            "=================================================================\n",
            " dense (Dense)               (None, 16)                32        \n",
            "                                                                 \n",
            " dense_1 (Dense)             (None, 32)                544       \n",
            "                                                                 \n",
            " dense_2 (Dense)             (None, 2)                 66        \n",
            "                                                                 \n",
            "=================================================================\n",
            "Total params: 642\n",
            "Trainable params: 642\n",
            "Non-trainable params: 0\n",
            "_________________________________________________________________\n"
          ]
        }
      ]
    },
    {
      "cell_type": "code",
      "source": [
        "new_model.get_weights()"
      ],
      "metadata": {
        "colab": {
          "base_uri": "https://localhost:8080/"
        },
        "id": "1famBeQZPLdM",
        "outputId": "a74a4b4a-0ac2-4198-a6df-8fd3cec6615b"
      },
      "execution_count": 26,
      "outputs": [
        {
          "output_type": "execute_result",
          "data": {
            "text/plain": [
              "[array([[-0.5100902 ,  0.7546959 , -0.2425533 , -0.34899378,  0.52028424,\n",
              "          0.52277356, -0.522653  ,  0.48221865,  0.61052805, -0.21427381,\n",
              "         -0.10672125, -0.5688113 ,  0.4133672 , -0.32857683, -0.03765231,\n",
              "         -0.5318088 ]], dtype=float32),\n",
              " array([ 0.        , -0.15332481,  0.        ,  0.        , -0.21480258,\n",
              "        -0.25835818,  0.        , -0.17856234, -0.2570437 ,  0.        ,\n",
              "         0.        ,  0.        , -0.20788006,  0.        ,  0.        ,\n",
              "         0.        ], dtype=float32),\n",
              " array([[-3.04804444e-02,  2.81362087e-01,  8.19735229e-02,\n",
              "         -2.54060030e-01,  1.38959289e-03,  1.59040719e-01,\n",
              "          2.67842203e-01,  7.58960247e-02, -2.67269015e-01,\n",
              "          2.16065675e-01,  3.40463221e-02,  5.68028986e-02,\n",
              "          8.36066306e-02,  3.18333179e-01, -3.39092612e-02,\n",
              "         -2.16893330e-01,  3.20872664e-03,  5.79132140e-02,\n",
              "         -2.77180016e-01,  3.25423211e-01, -1.85753465e-01,\n",
              "          9.20960903e-02, -3.41443330e-01, -2.99338371e-01,\n",
              "          1.45491958e-03, -3.68079245e-02, -1.09959275e-01,\n",
              "          7.31862187e-02, -6.40037954e-02, -2.77453125e-01,\n",
              "          3.78366709e-02,  9.21744704e-02],\n",
              "        [-2.92232156e-01, -2.79749870e-01,  2.17779413e-01,\n",
              "         -1.19607270e-01,  1.89841956e-01, -3.26203942e-01,\n",
              "         -4.16623056e-01, -7.68889710e-02, -1.32600009e-01,\n",
              "          4.84815478e-01,  2.51783468e-02, -3.51108700e-01,\n",
              "          3.30231786e-02,  2.16970399e-01, -2.78676391e-01,\n",
              "          4.17903215e-01, -2.53037274e-01,  4.15865660e-01,\n",
              "          2.28887394e-01, -3.22580338e-01, -2.32044280e-01,\n",
              "          3.62634182e-01,  3.50536972e-01, -1.02114737e-01,\n",
              "         -1.92419350e-01, -7.17711151e-02, -3.21566790e-01,\n",
              "          2.05767900e-01,  2.35192508e-01, -2.98259497e-01,\n",
              "          1.03268623e-02,  1.34069875e-01],\n",
              "        [-1.10898972e-01,  1.15905434e-01, -1.72380522e-01,\n",
              "          2.10728258e-01,  2.93511152e-03,  2.18454450e-01,\n",
              "         -2.70429522e-01, -2.12145567e-01,  3.03775579e-01,\n",
              "          1.39763236e-01, -2.09765196e-01, -9.57929492e-02,\n",
              "          1.57856554e-01,  3.10117871e-01,  1.89133316e-01,\n",
              "          1.18279397e-01,  2.47927934e-01,  3.27529997e-01,\n",
              "          2.82351702e-01,  3.40396672e-01, -2.32264116e-01,\n",
              "          2.76679307e-01,  1.71377271e-01,  2.65638798e-01,\n",
              "          2.15411454e-01,  3.22229654e-01,  3.02640527e-01,\n",
              "         -1.64886639e-01,  1.50284767e-02,  2.57342190e-01,\n",
              "          1.65086478e-01,  1.05664015e-01],\n",
              "        [-2.85738766e-01,  2.07966477e-01,  2.84080058e-01,\n",
              "          3.35897416e-01,  6.01250827e-02, -1.82279468e-01,\n",
              "          2.91741759e-01, -8.32648873e-02,  1.21497571e-01,\n",
              "         -1.24854133e-01, -2.38910079e-01,  1.22927427e-01,\n",
              "         -1.35644242e-01,  7.22311735e-02,  3.06545347e-01,\n",
              "         -2.00005844e-01, -9.57091749e-02,  2.95107931e-01,\n",
              "         -1.88711494e-01, -4.50530350e-02,  1.92440242e-01,\n",
              "          1.62183255e-01,  1.99818879e-01,  1.71040565e-01,\n",
              "          3.01828355e-01, -2.19746158e-01,  1.29151851e-01,\n",
              "         -7.48265088e-02,  3.04018289e-01,  2.99768120e-01,\n",
              "          1.66568488e-01, -2.09398434e-01],\n",
              "        [-3.10751081e-01, -3.28245044e-01,  1.95253864e-02,\n",
              "          1.04116440e-01,  6.17703736e-01,  4.92142141e-02,\n",
              "         -3.53900105e-01,  4.65117216e-01, -2.69018322e-01,\n",
              "          5.17112136e-01, -3.00552964e-01, -2.04158902e-01,\n",
              "         -9.37951863e-01,  4.28826243e-01, -2.10751683e-01,\n",
              "         -8.58258680e-02, -6.75056875e-02, -6.39372766e-02,\n",
              "          5.76016963e-01, -1.88457951e-01,  3.51008177e-02,\n",
              "          3.28261644e-01,  3.65389317e-01,  2.93867290e-02,\n",
              "         -3.90119404e-01,  1.93471283e-01,  2.07845598e-01,\n",
              "          4.79932785e-01,  5.51798463e-01, -2.35852242e-01,\n",
              "         -3.52682024e-01,  5.76849341e-01],\n",
              "        [-2.38736570e-02, -1.61527365e-01,  5.68380713e-01,\n",
              "         -2.52052903e-01,  2.30318025e-01, -1.56532049e-01,\n",
              "         -5.70399642e-01,  4.34024453e-01, -1.79709196e-01,\n",
              "          6.09406829e-01, -6.39688969e-02, -9.95203257e-02,\n",
              "         -7.34662712e-01,  2.63720274e-01,  1.08736455e-02,\n",
              "          2.53417552e-01,  4.19130027e-02,  5.80804527e-01,\n",
              "          2.16411218e-01,  1.00390911e-01, -2.80031502e-01,\n",
              "         -1.31998762e-01,  5.25819123e-01, -2.96002537e-01,\n",
              "         -1.03666115e+00,  1.58565193e-01, -3.50369513e-01,\n",
              "          3.44022512e-01,  3.53329867e-01,  1.54870421e-01,\n",
              "         -1.07222176e+00, -9.91505105e-03],\n",
              "        [-5.51357865e-03,  9.98575985e-02,  1.95128918e-02,\n",
              "         -8.50851238e-02,  3.34457844e-01,  2.16038495e-01,\n",
              "         -3.26068997e-02, -1.62212253e-02,  6.38656318e-02,\n",
              "         -1.85846865e-01, -1.07991353e-01, -3.14298898e-01,\n",
              "          2.10168034e-01, -1.36633754e-01, -1.63851351e-01,\n",
              "          1.28324926e-01, -1.97322696e-01, -1.97123840e-01,\n",
              "          9.57661569e-02,  2.17898637e-01,  2.51120359e-01,\n",
              "         -2.94142783e-01, -1.59710333e-01, -2.98255295e-01,\n",
              "          1.22478813e-01, -1.90548435e-01,  2.14846581e-01,\n",
              "         -2.89459825e-01,  1.73585266e-01,  3.23762327e-01,\n",
              "          6.33797050e-03, -1.41776860e-01],\n",
              "        [-1.71347842e-01, -8.14299881e-02,  3.90954554e-01,\n",
              "         -2.57055730e-01,  3.83920997e-01, -1.45304799e-01,\n",
              "         -1.40250340e-01,  5.79981983e-01, -3.28899860e-01,\n",
              "          5.21183848e-01,  6.91931397e-02,  3.26899022e-01,\n",
              "         -4.22831982e-01,  3.97122651e-01,  1.80499941e-01,\n",
              "          2.83687294e-01, -2.64158249e-01,  4.64137405e-01,\n",
              "          3.56547087e-01,  1.40348256e-01,  1.99689597e-01,\n",
              "          3.07502747e-01,  1.58886045e-01, -1.07394725e-01,\n",
              "         -3.19194585e-01, -1.58955827e-01,  2.74276346e-01,\n",
              "          3.34471107e-01,  4.82738525e-01,  3.40850502e-01,\n",
              "         -7.61246026e-01,  1.13387309e-01],\n",
              "        [ 1.54894799e-01,  3.26683491e-01,  1.44265726e-01,\n",
              "          1.64512187e-01,  2.66918898e-01,  1.66095346e-01,\n",
              "         -4.68723774e-01,  5.18609047e-01, -6.09434485e-01,\n",
              "         -1.54751576e-02, -2.76795983e-01,  2.83750623e-01,\n",
              "         -7.59916127e-01,  1.14388630e-01, -2.20240802e-01,\n",
              "          5.61372638e-01,  2.25664228e-01,  6.07969761e-01,\n",
              "          4.54723090e-01, -2.54025280e-01,  2.68027455e-01,\n",
              "          4.32481706e-01,  4.00217205e-01, -9.93040502e-02,\n",
              "         -9.03448462e-01, -1.48018047e-01,  1.84257954e-01,\n",
              "          5.30909359e-01,  4.89456356e-01, -2.78116167e-01,\n",
              "         -6.99494660e-01,  5.62266827e-01],\n",
              "        [ 9.12579596e-02, -1.33537054e-01, -2.54763961e-01,\n",
              "          2.14656740e-01,  4.13750410e-02,  2.91158706e-01,\n",
              "          2.19632298e-01,  1.08963013e-01, -3.17095429e-01,\n",
              "         -3.22775900e-01, -3.52760106e-01, -3.43218893e-01,\n",
              "         -5.10393977e-02, -3.06714922e-01, -6.08918965e-02,\n",
              "          3.14508885e-01, -2.43768603e-01,  1.79425448e-01,\n",
              "         -1.77651241e-01,  3.52667302e-01, -6.07770085e-02,\n",
              "          1.97722524e-01, -1.94155097e-01,  2.90628582e-01,\n",
              "          1.38513416e-01, -1.83248937e-01,  3.52765352e-01,\n",
              "         -1.63683295e-02, -1.19399577e-01, -1.87770873e-01,\n",
              "         -9.99181271e-02,  3.00206155e-01],\n",
              "        [ 1.53183639e-02, -2.79113203e-01, -2.25479141e-01,\n",
              "         -3.25699151e-02,  2.88198203e-01, -5.40394187e-02,\n",
              "         -9.22572613e-02, -2.34431386e-01,  7.76531100e-02,\n",
              "          5.83856106e-02, -3.48361224e-01,  2.70494848e-01,\n",
              "          8.60159695e-02, -3.51476550e-01, -2.65317857e-02,\n",
              "          1.99741393e-01, -1.51264116e-01, -2.22754687e-01,\n",
              "          2.14073867e-01, -3.06499124e-01, -2.92033851e-02,\n",
              "         -2.67772317e-01,  4.77960706e-03, -3.31124336e-01,\n",
              "          7.42713511e-02, -6.25997782e-03,  2.92981297e-01,\n",
              "          3.26073170e-02,  3.01905721e-01, -5.63516915e-02,\n",
              "          1.65977746e-01, -8.24030638e-02],\n",
              "        [ 1.37839496e-01,  1.91376358e-01,  6.11161292e-02,\n",
              "          2.48544842e-01, -1.41587362e-01,  3.23626995e-02,\n",
              "          2.10327297e-01, -1.14443183e-01,  1.60249561e-01,\n",
              "         -1.95048526e-01,  2.77407080e-01,  8.12064409e-02,\n",
              "         -7.33253360e-03, -7.88697302e-02,  1.99155897e-01,\n",
              "          1.32014543e-01, -1.59738824e-01, -1.22592449e-02,\n",
              "          2.73304492e-01, -3.03830981e-01,  2.11078912e-01,\n",
              "         -2.32017890e-01,  1.83098614e-02,  2.71522909e-01,\n",
              "         -2.83380657e-01,  5.22255003e-02,  7.23869503e-02,\n",
              "         -6.97376132e-02, -3.18324268e-01,  2.59193569e-01,\n",
              "          7.12323785e-02,  1.13545895e-01],\n",
              "        [-2.94922650e-01,  2.56190628e-01,  4.34927613e-01,\n",
              "          1.98557824e-01,  7.93768913e-02, -8.21790099e-02,\n",
              "         -9.41564143e-01,  5.68337679e-01, -8.94911647e-01,\n",
              "          5.75870395e-01, -2.52003431e-01, -3.37106854e-01,\n",
              "         -1.27284396e+00,  3.00828964e-01,  2.65928179e-01,\n",
              "         -2.46016979e-02,  2.97351509e-01,  6.24557197e-01,\n",
              "          5.88526368e-01,  2.72120237e-02, -2.12782159e-01,\n",
              "         -5.99654280e-02,  3.47043991e-01, -1.99361339e-01,\n",
              "         -1.17456520e+00, -9.99462008e-02,  2.18263835e-01,\n",
              "          2.47910827e-01,  5.76627702e-02, -3.37623060e-01,\n",
              "         -1.20866203e+00,  3.32179427e-01],\n",
              "        [ 2.14544803e-01, -1.97924718e-01,  3.46321464e-02,\n",
              "          1.93194300e-01, -9.17921960e-02, -6.90236390e-02,\n",
              "          1.46543771e-01, -9.64330137e-02,  6.46956563e-02,\n",
              "          2.88633853e-01, -2.70839930e-01, -2.17742503e-01,\n",
              "          1.56328708e-01,  1.38697177e-01,  2.10281938e-01,\n",
              "          2.30927765e-02, -6.55950010e-02,  3.23680609e-01,\n",
              "          1.70853525e-01, -9.77897048e-02, -2.55651742e-01,\n",
              "          1.84194714e-01,  2.38467753e-02, -5.24562299e-02,\n",
              "         -8.00675452e-02,  5.73366880e-04,  2.28647381e-01,\n",
              "         -3.08322012e-02,  3.24603647e-01, -3.06953460e-01,\n",
              "         -1.64294392e-01,  2.39380807e-01],\n",
              "        [ 3.27435225e-01, -2.12916091e-01,  1.51611060e-01,\n",
              "         -2.93134451e-01,  3.12085956e-01,  3.95313799e-02,\n",
              "          2.47591466e-01, -2.14620233e-02,  3.25934559e-01,\n",
              "          4.07725275e-02,  2.68772453e-01,  2.90971696e-02,\n",
              "          1.00675404e-01, -4.41521406e-03,  2.92877525e-01,\n",
              "         -3.35964829e-01, -1.25387207e-01,  3.09978157e-01,\n",
              "          9.87034440e-02, -2.85997450e-01, -1.67221576e-01,\n",
              "         -9.73690748e-02,  5.22235632e-02, -3.31615508e-02,\n",
              "         -2.17240274e-01,  1.72089040e-02, -9.31665301e-02,\n",
              "          1.13452822e-01,  1.01080120e-01, -8.23779404e-02,\n",
              "         -3.16972136e-02, -2.74157405e-01],\n",
              "        [ 3.44619125e-01,  2.18535215e-01,  8.10815096e-02,\n",
              "          3.24061126e-01, -2.55211890e-02,  2.68966287e-01,\n",
              "          5.39087653e-02,  1.47891015e-01,  1.17277890e-01,\n",
              "         -1.96680546e-01,  1.73748344e-01, -8.79956186e-02,\n",
              "          1.74122959e-01,  2.81964749e-01, -3.52691561e-01,\n",
              "          7.44917691e-02,  1.46244675e-01,  1.42896175e-01,\n",
              "          1.52316123e-01, -3.26154560e-01,  2.01421231e-01,\n",
              "         -1.71211287e-01,  1.25063181e-01,  2.44124681e-01,\n",
              "         -1.94773138e-01,  3.25418144e-01,  2.16654748e-01,\n",
              "          2.04097539e-01,  2.47141868e-01,  2.23682910e-01,\n",
              "          3.05835456e-01, -1.07532457e-01]], dtype=float32),\n",
              " array([ 0.        ,  0.        , -0.06443718,  0.        , -0.08777119,\n",
              "         0.        ,  0.33959842, -0.05430952,  0.25246343, -0.14026812,\n",
              "        -0.01115103,  0.        ,  0.36141205, -0.07621436,  0.        ,\n",
              "        -0.11293848,  0.        , -0.13154928, -0.10450491,  0.        ,\n",
              "         0.        , -0.11192451, -0.10568797,  0.        ,  0.39480817,\n",
              "         0.        ,  0.        , -0.09952941, -0.11445331,  0.        ,\n",
              "         0.35860124, -0.07324968], dtype=float32),\n",
              " array([[ 0.2217283 , -0.22968127],\n",
              "        [-0.0188989 , -0.03566641],\n",
              "        [-0.3900413 ,  0.7163257 ],\n",
              "        [-0.0238435 ,  0.23995015],\n",
              "        [-0.69854504,  0.15972765],\n",
              "        [-0.20952532,  0.3980302 ],\n",
              "        [ 1.0014162 , -0.9640901 ],\n",
              "        [-0.6878679 ,  0.11175856],\n",
              "        [ 0.7934545 , -0.19443595],\n",
              "        [-0.26916057,  0.4182981 ],\n",
              "        [-0.22429644, -0.13728558],\n",
              "        [-0.2799493 , -0.2572651 ],\n",
              "        [ 1.3224738 , -0.6453827 ],\n",
              "        [-0.42724702,  0.752468  ],\n",
              "        [-0.04543048,  0.35340407],\n",
              "        [-0.44525766,  0.45243764],\n",
              "        [ 0.30080035,  0.28598288],\n",
              "        [-0.09760223,  0.52964044],\n",
              "        [-0.52233046,  0.22329749],\n",
              "        [-0.24269862,  0.3168744 ],\n",
              "        [ 0.21286932, -0.3270803 ],\n",
              "        [ 0.02674175,  0.26753137],\n",
              "        [-0.3976797 ,  0.6072489 ],\n",
              "        [ 0.12617442, -0.36315975],\n",
              "        [ 0.5294178 , -1.2583479 ],\n",
              "        [ 0.37156692,  0.35543916],\n",
              "        [-0.15973705,  0.01613361],\n",
              "        [-0.10567503,  0.61068135],\n",
              "        [-0.5121693 ,  0.228611  ],\n",
              "        [-0.07003236, -0.00798923],\n",
              "        [ 0.7094041 , -1.2504632 ],\n",
              "        [-0.5096609 ,  0.46207613]], dtype=float32),\n",
              " array([ 0.12089391, -0.12089393], dtype=float32)]"
            ]
          },
          "metadata": {},
          "execution_count": 26
        }
      ]
    },
    {
      "cell_type": "code",
      "source": [
        "new_model.optimizer"
      ],
      "metadata": {
        "colab": {
          "base_uri": "https://localhost:8080/"
        },
        "id": "5XSTwaHDPXsx",
        "outputId": "cacce295-0900-49ac-faeb-a9d421d01b98"
      },
      "execution_count": 27,
      "outputs": [
        {
          "output_type": "execute_result",
          "data": {
            "text/plain": [
              "<keras.optimizers.adam.Adam at 0x7af888a1a920>"
            ]
          },
          "metadata": {},
          "execution_count": 27
        }
      ]
    },
    {
      "cell_type": "code",
      "source": [
        "# model to JSON\n",
        "\n",
        "json_string = model.to_json()\n",
        "json_string"
      ],
      "metadata": {
        "colab": {
          "base_uri": "https://localhost:8080/",
          "height": 158
        },
        "id": "eQSmbQByPcEr",
        "outputId": "355317d3-b2c3-4d27-9f3c-50d0ff2ae437"
      },
      "execution_count": 28,
      "outputs": [
        {
          "output_type": "execute_result",
          "data": {
            "text/plain": [
              "'{\"class_name\": \"Sequential\", \"config\": {\"name\": \"sequential\", \"layers\": [{\"class_name\": \"InputLayer\", \"config\": {\"batch_input_shape\": [null, 1], \"dtype\": \"float32\", \"sparse\": false, \"ragged\": false, \"name\": \"dense_input\"}}, {\"class_name\": \"Dense\", \"config\": {\"name\": \"dense\", \"trainable\": true, \"dtype\": \"float32\", \"batch_input_shape\": [null, 1], \"units\": 16, \"activation\": \"relu\", \"use_bias\": true, \"kernel_initializer\": {\"class_name\": \"GlorotUniform\", \"config\": {\"seed\": null}}, \"bias_initializer\": {\"class_name\": \"Zeros\", \"config\": {}}, \"kernel_regularizer\": null, \"bias_regularizer\": null, \"activity_regularizer\": null, \"kernel_constraint\": null, \"bias_constraint\": null}}, {\"class_name\": \"Dense\", \"config\": {\"name\": \"dense_1\", \"trainable\": true, \"dtype\": \"float32\", \"units\": 32, \"activation\": \"relu\", \"use_bias\": true, \"kernel_initializer\": {\"class_name\": \"GlorotUniform\", \"config\": {\"seed\": null}}, \"bias_initializer\": {\"class_name\": \"Zeros\", \"config\": {}}, \"kernel_regularizer\": null, \"bias_regularizer\": null, \"activity_regularizer\": null, \"kernel_constraint\": null, \"bias_constraint\": null}}, {\"class_name\": \"Dense\", \"config\": {\"name\": \"dense_2\", \"trainable\": true, \"dtype\": \"float32\", \"units\": 2, \"activation\": \"softmax\", \"use_bias\": true, \"kernel_initializer\": {\"class_name\": \"GlorotUniform\", \"config\": {\"seed\": null}}, \"bias_initializer\": {\"class_name\": \"Zeros\", \"config\": {}}, \"kernel_regularizer\": null, \"bias_regularizer\": null, \"activity_regularizer\": null, \"kernel_constraint\": null, \"bias_constraint\": null}}]}, \"keras_version\": \"2.12.0\", \"backend\": \"tensorflow\"}'"
            ],
            "application/vnd.google.colaboratory.intrinsic+json": {
              "type": "string"
            }
          },
          "metadata": {},
          "execution_count": 28
        }
      ]
    },
    {
      "cell_type": "code",
      "source": [
        "# save to YAML\n",
        "\n",
        "# yaml_string = model.to_yaml()\n",
        "# yaml_string"
      ],
      "metadata": {
        "id": "7mQNwzABRnxc"
      },
      "execution_count": 29,
      "outputs": []
    },
    {
      "cell_type": "code",
      "source": [
        "# model construction from JSON\n",
        "model_architecture = model_from_json(json_string)"
      ],
      "metadata": {
        "id": "vaofpyeUR9FF"
      },
      "execution_count": 30,
      "outputs": []
    },
    {
      "cell_type": "code",
      "source": [
        "model_architecture.summary()"
      ],
      "metadata": {
        "colab": {
          "base_uri": "https://localhost:8080/"
        },
        "id": "3b9yCPf8SXDm",
        "outputId": "956c99c4-b6a1-47fb-b9ad-48c5b004fc20"
      },
      "execution_count": 31,
      "outputs": [
        {
          "output_type": "stream",
          "name": "stdout",
          "text": [
            "Model: \"sequential\"\n",
            "_________________________________________________________________\n",
            " Layer (type)                Output Shape              Param #   \n",
            "=================================================================\n",
            " dense (Dense)               (None, 16)                32        \n",
            "                                                                 \n",
            " dense_1 (Dense)             (None, 32)                544       \n",
            "                                                                 \n",
            " dense_2 (Dense)             (None, 2)                 66        \n",
            "                                                                 \n",
            "=================================================================\n",
            "Total params: 642\n",
            "Trainable params: 642\n",
            "Non-trainable params: 0\n",
            "_________________________________________________________________\n"
          ]
        }
      ]
    }
  ]
}